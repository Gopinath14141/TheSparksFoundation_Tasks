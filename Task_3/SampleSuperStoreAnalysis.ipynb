{
 "cells": [
  {
   "cell_type": "code",
   "execution_count": 93,
   "id": "15726ce2",
   "metadata": {},
   "outputs": [],
   "source": [
    "import numpy as np\n",
    "import pandas as pd\n",
    "import matplotlib.pyplot as plt\n",
    "import seaborn as sns\n",
    "from scipy import stats\n",
    "from sklearn.tree import DecisionTreeClassifier\n",
    "import warnings"
   ]
  },
  {
   "cell_type": "code",
   "execution_count": 95,
   "id": "f63f1877",
   "metadata": {},
   "outputs": [],
   "source": [
    "warnings.filterwarnings(\"ignore\")"
   ]
  },
  {
   "cell_type": "code",
   "execution_count": 6,
   "id": "2ad6a7f1",
   "metadata": {},
   "outputs": [
    {
     "data": {
      "text/plain": [
       "Index(['Ship Mode', 'Segment', 'Country', 'City', 'State', 'Postal Code',\n",
       "       'Region', 'Category', 'Sub-Category', 'Sales', 'Quantity', 'Discount',\n",
       "       'Profit'],\n",
       "      dtype='object')"
      ]
     },
     "execution_count": 6,
     "metadata": {},
     "output_type": "execute_result"
    }
   ],
   "source": [
    "data.columns"
   ]
  },
  {
   "cell_type": "code",
   "execution_count": 2,
   "id": "3d830553",
   "metadata": {
    "scrolled": true
   },
   "outputs": [
    {
     "data": {
      "text/html": [
       "<div>\n",
       "<style scoped>\n",
       "    .dataframe tbody tr th:only-of-type {\n",
       "        vertical-align: middle;\n",
       "    }\n",
       "\n",
       "    .dataframe tbody tr th {\n",
       "        vertical-align: top;\n",
       "    }\n",
       "\n",
       "    .dataframe thead th {\n",
       "        text-align: right;\n",
       "    }\n",
       "</style>\n",
       "<table border=\"1\" class=\"dataframe\">\n",
       "  <thead>\n",
       "    <tr style=\"text-align: right;\">\n",
       "      <th></th>\n",
       "      <th>Ship Mode</th>\n",
       "      <th>Segment</th>\n",
       "      <th>Country</th>\n",
       "      <th>City</th>\n",
       "      <th>State</th>\n",
       "      <th>Postal Code</th>\n",
       "      <th>Region</th>\n",
       "      <th>Category</th>\n",
       "      <th>Sub-Category</th>\n",
       "      <th>Sales</th>\n",
       "      <th>Quantity</th>\n",
       "      <th>Discount</th>\n",
       "      <th>Profit</th>\n",
       "    </tr>\n",
       "  </thead>\n",
       "  <tbody>\n",
       "    <tr>\n",
       "      <th>0</th>\n",
       "      <td>Second Class</td>\n",
       "      <td>Consumer</td>\n",
       "      <td>United States</td>\n",
       "      <td>Henderson</td>\n",
       "      <td>Kentucky</td>\n",
       "      <td>42420</td>\n",
       "      <td>South</td>\n",
       "      <td>Furniture</td>\n",
       "      <td>Bookcases</td>\n",
       "      <td>261.9600</td>\n",
       "      <td>2</td>\n",
       "      <td>0.00</td>\n",
       "      <td>41.9136</td>\n",
       "    </tr>\n",
       "    <tr>\n",
       "      <th>1</th>\n",
       "      <td>Second Class</td>\n",
       "      <td>Consumer</td>\n",
       "      <td>United States</td>\n",
       "      <td>Henderson</td>\n",
       "      <td>Kentucky</td>\n",
       "      <td>42420</td>\n",
       "      <td>South</td>\n",
       "      <td>Furniture</td>\n",
       "      <td>Chairs</td>\n",
       "      <td>731.9400</td>\n",
       "      <td>3</td>\n",
       "      <td>0.00</td>\n",
       "      <td>219.5820</td>\n",
       "    </tr>\n",
       "    <tr>\n",
       "      <th>2</th>\n",
       "      <td>Second Class</td>\n",
       "      <td>Corporate</td>\n",
       "      <td>United States</td>\n",
       "      <td>Los Angeles</td>\n",
       "      <td>California</td>\n",
       "      <td>90036</td>\n",
       "      <td>West</td>\n",
       "      <td>Office Supplies</td>\n",
       "      <td>Labels</td>\n",
       "      <td>14.6200</td>\n",
       "      <td>2</td>\n",
       "      <td>0.00</td>\n",
       "      <td>6.8714</td>\n",
       "    </tr>\n",
       "    <tr>\n",
       "      <th>3</th>\n",
       "      <td>Standard Class</td>\n",
       "      <td>Consumer</td>\n",
       "      <td>United States</td>\n",
       "      <td>Fort Lauderdale</td>\n",
       "      <td>Florida</td>\n",
       "      <td>33311</td>\n",
       "      <td>South</td>\n",
       "      <td>Furniture</td>\n",
       "      <td>Tables</td>\n",
       "      <td>957.5775</td>\n",
       "      <td>5</td>\n",
       "      <td>0.45</td>\n",
       "      <td>-383.0310</td>\n",
       "    </tr>\n",
       "    <tr>\n",
       "      <th>4</th>\n",
       "      <td>Standard Class</td>\n",
       "      <td>Consumer</td>\n",
       "      <td>United States</td>\n",
       "      <td>Fort Lauderdale</td>\n",
       "      <td>Florida</td>\n",
       "      <td>33311</td>\n",
       "      <td>South</td>\n",
       "      <td>Office Supplies</td>\n",
       "      <td>Storage</td>\n",
       "      <td>22.3680</td>\n",
       "      <td>2</td>\n",
       "      <td>0.20</td>\n",
       "      <td>2.5164</td>\n",
       "    </tr>\n",
       "  </tbody>\n",
       "</table>\n",
       "</div>"
      ],
      "text/plain": [
       "        Ship Mode    Segment        Country             City       State  \\\n",
       "0    Second Class   Consumer  United States        Henderson    Kentucky   \n",
       "1    Second Class   Consumer  United States        Henderson    Kentucky   \n",
       "2    Second Class  Corporate  United States      Los Angeles  California   \n",
       "3  Standard Class   Consumer  United States  Fort Lauderdale     Florida   \n",
       "4  Standard Class   Consumer  United States  Fort Lauderdale     Florida   \n",
       "\n",
       "   Postal Code Region         Category Sub-Category     Sales  Quantity  \\\n",
       "0        42420  South        Furniture    Bookcases  261.9600         2   \n",
       "1        42420  South        Furniture       Chairs  731.9400         3   \n",
       "2        90036   West  Office Supplies       Labels   14.6200         2   \n",
       "3        33311  South        Furniture       Tables  957.5775         5   \n",
       "4        33311  South  Office Supplies      Storage   22.3680         2   \n",
       "\n",
       "   Discount    Profit  \n",
       "0      0.00   41.9136  \n",
       "1      0.00  219.5820  \n",
       "2      0.00    6.8714  \n",
       "3      0.45 -383.0310  \n",
       "4      0.20    2.5164  "
      ]
     },
     "execution_count": 2,
     "metadata": {},
     "output_type": "execute_result"
    }
   ],
   "source": [
    "data=pd.read_csv('./SampleSuperstore.csv')\n",
    "data.head()"
   ]
  },
  {
   "cell_type": "code",
   "execution_count": 3,
   "id": "fbbbd272",
   "metadata": {},
   "outputs": [
    {
     "name": "stdout",
     "output_type": "stream",
     "text": [
      "<class 'pandas.core.frame.DataFrame'>\n",
      "RangeIndex: 9994 entries, 0 to 9993\n",
      "Data columns (total 13 columns):\n",
      " #   Column        Non-Null Count  Dtype  \n",
      "---  ------        --------------  -----  \n",
      " 0   Ship Mode     9994 non-null   object \n",
      " 1   Segment       9994 non-null   object \n",
      " 2   Country       9994 non-null   object \n",
      " 3   City          9994 non-null   object \n",
      " 4   State         9994 non-null   object \n",
      " 5   Postal Code   9994 non-null   int64  \n",
      " 6   Region        9994 non-null   object \n",
      " 7   Category      9994 non-null   object \n",
      " 8   Sub-Category  9994 non-null   object \n",
      " 9   Sales         9994 non-null   float64\n",
      " 10  Quantity      9994 non-null   int64  \n",
      " 11  Discount      9994 non-null   float64\n",
      " 12  Profit        9994 non-null   float64\n",
      "dtypes: float64(3), int64(2), object(8)\n",
      "memory usage: 1015.1+ KB\n"
     ]
    }
   ],
   "source": [
    "data.info()"
   ]
  },
  {
   "cell_type": "code",
   "execution_count": 4,
   "id": "2b2068e9",
   "metadata": {},
   "outputs": [
    {
     "data": {
      "text/html": [
       "<div>\n",
       "<style scoped>\n",
       "    .dataframe tbody tr th:only-of-type {\n",
       "        vertical-align: middle;\n",
       "    }\n",
       "\n",
       "    .dataframe tbody tr th {\n",
       "        vertical-align: top;\n",
       "    }\n",
       "\n",
       "    .dataframe thead th {\n",
       "        text-align: right;\n",
       "    }\n",
       "</style>\n",
       "<table border=\"1\" class=\"dataframe\">\n",
       "  <thead>\n",
       "    <tr style=\"text-align: right;\">\n",
       "      <th></th>\n",
       "      <th>Postal Code</th>\n",
       "      <th>Sales</th>\n",
       "      <th>Quantity</th>\n",
       "      <th>Discount</th>\n",
       "      <th>Profit</th>\n",
       "    </tr>\n",
       "  </thead>\n",
       "  <tbody>\n",
       "    <tr>\n",
       "      <th>count</th>\n",
       "      <td>9994.000000</td>\n",
       "      <td>9994.000000</td>\n",
       "      <td>9994.000000</td>\n",
       "      <td>9994.000000</td>\n",
       "      <td>9994.000000</td>\n",
       "    </tr>\n",
       "    <tr>\n",
       "      <th>mean</th>\n",
       "      <td>55190.379428</td>\n",
       "      <td>229.858001</td>\n",
       "      <td>3.789574</td>\n",
       "      <td>0.156203</td>\n",
       "      <td>28.656896</td>\n",
       "    </tr>\n",
       "    <tr>\n",
       "      <th>std</th>\n",
       "      <td>32063.693350</td>\n",
       "      <td>623.245101</td>\n",
       "      <td>2.225110</td>\n",
       "      <td>0.206452</td>\n",
       "      <td>234.260108</td>\n",
       "    </tr>\n",
       "    <tr>\n",
       "      <th>min</th>\n",
       "      <td>1040.000000</td>\n",
       "      <td>0.444000</td>\n",
       "      <td>1.000000</td>\n",
       "      <td>0.000000</td>\n",
       "      <td>-6599.978000</td>\n",
       "    </tr>\n",
       "    <tr>\n",
       "      <th>25%</th>\n",
       "      <td>23223.000000</td>\n",
       "      <td>17.280000</td>\n",
       "      <td>2.000000</td>\n",
       "      <td>0.000000</td>\n",
       "      <td>1.728750</td>\n",
       "    </tr>\n",
       "    <tr>\n",
       "      <th>50%</th>\n",
       "      <td>56430.500000</td>\n",
       "      <td>54.490000</td>\n",
       "      <td>3.000000</td>\n",
       "      <td>0.200000</td>\n",
       "      <td>8.666500</td>\n",
       "    </tr>\n",
       "    <tr>\n",
       "      <th>75%</th>\n",
       "      <td>90008.000000</td>\n",
       "      <td>209.940000</td>\n",
       "      <td>5.000000</td>\n",
       "      <td>0.200000</td>\n",
       "      <td>29.364000</td>\n",
       "    </tr>\n",
       "    <tr>\n",
       "      <th>max</th>\n",
       "      <td>99301.000000</td>\n",
       "      <td>22638.480000</td>\n",
       "      <td>14.000000</td>\n",
       "      <td>0.800000</td>\n",
       "      <td>8399.976000</td>\n",
       "    </tr>\n",
       "  </tbody>\n",
       "</table>\n",
       "</div>"
      ],
      "text/plain": [
       "        Postal Code         Sales     Quantity     Discount       Profit\n",
       "count   9994.000000   9994.000000  9994.000000  9994.000000  9994.000000\n",
       "mean   55190.379428    229.858001     3.789574     0.156203    28.656896\n",
       "std    32063.693350    623.245101     2.225110     0.206452   234.260108\n",
       "min     1040.000000      0.444000     1.000000     0.000000 -6599.978000\n",
       "25%    23223.000000     17.280000     2.000000     0.000000     1.728750\n",
       "50%    56430.500000     54.490000     3.000000     0.200000     8.666500\n",
       "75%    90008.000000    209.940000     5.000000     0.200000    29.364000\n",
       "max    99301.000000  22638.480000    14.000000     0.800000  8399.976000"
      ]
     },
     "execution_count": 4,
     "metadata": {},
     "output_type": "execute_result"
    }
   ],
   "source": [
    "data.describe()"
   ]
  },
  {
   "cell_type": "code",
   "execution_count": 5,
   "id": "4333a461",
   "metadata": {},
   "outputs": [
    {
     "data": {
      "text/plain": [
       "Ship Mode       0\n",
       "Segment         0\n",
       "Country         0\n",
       "City            0\n",
       "State           0\n",
       "Postal Code     0\n",
       "Region          0\n",
       "Category        0\n",
       "Sub-Category    0\n",
       "Sales           0\n",
       "Quantity        0\n",
       "Discount        0\n",
       "Profit          0\n",
       "dtype: int64"
      ]
     },
     "execution_count": 5,
     "metadata": {},
     "output_type": "execute_result"
    }
   ],
   "source": [
    "data.isnull().sum()"
   ]
  },
  {
   "cell_type": "code",
   "execution_count": 8,
   "id": "ae6ca5e6",
   "metadata": {},
   "outputs": [
    {
     "name": "stdout",
     "output_type": "stream",
     "text": [
      "Ship Mode   :  4 ['Second Class' 'Standard Class' 'First Class' 'Same Day']\n",
      "Segment     :  3 ['Consumer' 'Corporate' 'Home Office']\n",
      "Country     :  1 ['United States']\n",
      "City        :  531\n",
      "State       :  49\n",
      "Region      :  4 ['South' 'West' 'Central' 'East']\n",
      "Category    :  3 ['Furniture' 'Office Supplies' 'Technology']\n",
      "Sub-Category:  17 ['Bookcases' 'Chairs' 'Labels' 'Tables' 'Storage' 'Furnishings' 'Art'\n",
      " 'Phones' 'Binders' 'Appliances' 'Paper' 'Accessories' 'Envelopes'\n",
      " 'Fasteners' 'Supplies' 'Machines' 'Copiers']\n",
      "Quantity      :  14 [ 2  3  5  7  4  6  9  1  8 14 11 13 10 12]\n",
      "Discount    :  12 [0.   0.45 0.2  0.8  0.3  0.5  0.7  0.6  0.32 0.1  0.4  0.15]\n",
      "Postal Code   :  631\n"
     ]
    }
   ],
   "source": [
    "print('Ship Mode   : ',len(data['Ship Mode'].unique()),data['Ship Mode'].unique())\n",
    "print('Segment     : ',len(data['Segment'].unique()),data['Segment'].unique())\n",
    "print('Country     : ',len(data['Country'].unique()),data['Country'].unique())\n",
    "print('City        : ',len(data['City'].unique()))\n",
    "print('State       : ',len(data['State'].unique()))\n",
    "print('Region      : ',len(data['Region'].unique()),data['Region'].unique())\n",
    "print('Category    : ',len(data['Category'].unique()),data['Category'].unique())\n",
    "print('Sub-Category: ',len(data['Sub-Category'].unique()),data['Sub-Category'].unique())\n",
    "print('Quantity      : ',len(data['Quantity'].unique()),data['Quantity'].unique())\n",
    "print('Discount    : ',len(data['Discount'].unique()),data['Discount'].unique())\n",
    "print('Postal Code   : ',len(data['Postal Code'].unique()))"
   ]
  },
  {
   "cell_type": "code",
   "execution_count": 9,
   "id": "88c81064",
   "metadata": {},
   "outputs": [],
   "source": [
    "loss_Data=data[data['Profit']<0]\n",
    "loss_Data['Profit']=loss_Data['Profit'].abs()"
   ]
  },
  {
   "cell_type": "markdown",
   "id": "866b0e01",
   "metadata": {},
   "source": [
    "## Segment Analysis"
   ]
  },
  {
   "cell_type": "code",
   "execution_count": 97,
   "id": "b629e79e",
   "metadata": {},
   "outputs": [
    {
     "data": {
      "text/plain": [
       "Segment\n",
       "Consumer       84945.7112\n",
       "Corporate      44787.2076\n",
       "Home Office    26398.3669\n",
       "Name: Profit, dtype: float64"
      ]
     },
     "execution_count": 97,
     "metadata": {},
     "output_type": "execute_result"
    }
   ],
   "source": [
    "SegmentAnalysis=loss_Data.groupby(['Segment'])['Profit'].agg(np.sum)\n",
    "SegmentAnalysis.sort_values(ascending=False)"
   ]
  },
  {
   "cell_type": "markdown",
   "id": "a11c253a",
   "metadata": {},
   "source": [
    "Consumer segement faced a highest loss followed by Corporate and Home office"
   ]
  },
  {
   "cell_type": "code",
   "execution_count": 98,
   "id": "4647729d",
   "metadata": {},
   "outputs": [
    {
     "data": {
      "text/plain": [
       "Segment\n",
       "Consumer       3651\n",
       "Corporate      2191\n",
       "Home Office    1198\n",
       "Name: Quantity, dtype: int64"
      ]
     },
     "execution_count": 98,
     "metadata": {},
     "output_type": "execute_result"
    }
   ],
   "source": [
    "SegmentAnalysisQuantiy=loss_Data.groupby(['Segment'])['Quantity'].agg(np.sum)\n",
    "SegmentAnalysisQuantiy"
   ]
  },
  {
   "cell_type": "markdown",
   "id": "979ca692",
   "metadata": {},
   "source": [
    "## Segment->Region Analysis"
   ]
  },
  {
   "cell_type": "code",
   "execution_count": 17,
   "id": "4dcfda4f",
   "metadata": {},
   "outputs": [
    {
     "data": {
      "text/plain": [
       "Segment      Region \n",
       "Consumer     Central    34630.4562\n",
       "             East       27951.6490\n",
       "Corporate    East       15844.2365\n",
       "             Central    14275.4039\n",
       "Consumer     South      12468.2534\n",
       "             West        9895.3526\n",
       "Corporate    South       9412.8283\n",
       "Home Office  West        7570.8694\n",
       "             Central     7409.0249\n",
       "             East        5794.7220\n",
       "             South       5623.7506\n",
       "Corporate    West        5254.7389\n",
       "Name: Profit, dtype: float64"
      ]
     },
     "execution_count": 17,
     "metadata": {},
     "output_type": "execute_result"
    }
   ],
   "source": [
    "SegmentRegionAnalysis=loss_Data.groupby(['Segment','Region'])['Profit'].agg(np.sum)\n",
    "SegmentRegionAnalysis.sort_values(ascending=False)"
   ]
  },
  {
   "cell_type": "markdown",
   "id": "b29454b7",
   "metadata": {},
   "source": [
    "1.The Major contribution for loss in Consumer segment is from the Region Central followed by East least contribution from South, West"
   ]
  },
  {
   "cell_type": "markdown",
   "id": "18838d4d",
   "metadata": {},
   "source": [
    "2.The second major loss contribution for the segment corporate is from region east and central and least contribution from South and West"
   ]
  },
  {
   "cell_type": "markdown",
   "id": "415392b9",
   "metadata": {},
   "source": [
    "3.Scope of improvement is there in the region central and east for segment consumer follower corporate segment. Home office had least loss contribution compared over other segments"
   ]
  },
  {
   "cell_type": "markdown",
   "id": "d2dde62c",
   "metadata": {},
   "source": [
    "### Consumer->Central and Consumer->East"
   ]
  },
  {
   "cell_type": "code",
   "execution_count": 18,
   "id": "3e80b11b",
   "metadata": {},
   "outputs": [],
   "source": [
    "ConsumerCentralEastAnalysis=loss_Data.groupby(['Segment','Region'])\n",
    "StateConsumerCentralAnalysis=ConsumerCentralEastAnalysis.get_group(('Consumer','Central'))\n",
    "StateConsumerEastAnalysis=ConsumerCentralEastAnalysis.get_group(('Consumer','East'))"
   ]
  },
  {
   "cell_type": "code",
   "execution_count": 19,
   "id": "f96a2a43",
   "metadata": {},
   "outputs": [
    {
     "data": {
      "text/plain": [
       "State\n",
       "Illinois     8800.9287\n",
       "Texas       25829.5275\n",
       "Name: Profit, dtype: float64"
      ]
     },
     "execution_count": 19,
     "metadata": {},
     "output_type": "execute_result"
    }
   ],
   "source": [
    "StateConsumerCentralAnalysis.groupby('State')['Profit'].agg(np.sum)"
   ]
  },
  {
   "cell_type": "markdown",
   "id": "3812a46a",
   "metadata": {},
   "source": [
    "Texas made a highest contribution followed by Illinois"
   ]
  },
  {
   "cell_type": "code",
   "execution_count": 99,
   "id": "af5a0cf3",
   "metadata": {},
   "outputs": [
    {
     "data": {
      "text/plain": [
       "State\n",
       "Ohio             14140.0290\n",
       "Pennsylvania     10919.9776\n",
       "New York          2351.3882\n",
       "Massachusetts      215.9187\n",
       "West Virginia       76.9536\n",
       "Maryland            71.1170\n",
       "Rhode Island        60.6078\n",
       "New Jersey          51.2906\n",
       "Delaware            48.7839\n",
       "Connecticut         15.5826\n",
       "Name: Profit, dtype: float64"
      ]
     },
     "execution_count": 99,
     "metadata": {},
     "output_type": "execute_result"
    }
   ],
   "source": [
    "StateConsumerEastAnalysis.groupby('State')['Profit'].agg(np.sum).sort_values(ascending=False)"
   ]
  },
  {
   "cell_type": "markdown",
   "id": "3dcd98ac",
   "metadata": {},
   "source": [
    "In the eastern region the states ohio and pennsylvania made a highest loss contribution towards consumer segment"
   ]
  },
  {
   "cell_type": "markdown",
   "id": "9ee1a159",
   "metadata": {},
   "source": [
    "### Corporate->East and Corporate->Central"
   ]
  },
  {
   "cell_type": "code",
   "execution_count": 21,
   "id": "320ab3f3",
   "metadata": {},
   "outputs": [],
   "source": [
    "CorporateCentralEastAnalysis=loss_Data.groupby(['Segment','Region'])\n",
    "StateCorporateEastAnalysis=CorporateCentralEastAnalysis.get_group(('Corporate','East'))\n",
    "StateCorporateCentralAnalysis=CorporateCentralEastAnalysis.get_group(('Corporate','Central'))"
   ]
  },
  {
   "cell_type": "code",
   "execution_count": 22,
   "id": "b5761ddd",
   "metadata": {},
   "outputs": [
    {
     "data": {
      "text/plain": [
       "State\n",
       "Pennsylvania     6814.4556\n",
       "Ohio             6034.9007\n",
       "New York         2486.4910\n",
       "Massachusetts     297.6848\n",
       "Rhode Island      169.5600\n",
       "Delaware           37.1124\n",
       "Connecticut         4.0320\n",
       "Name: Profit, dtype: float64"
      ]
     },
     "execution_count": 22,
     "metadata": {},
     "output_type": "execute_result"
    }
   ],
   "source": [
    "StateCorporateEastAnalysis.groupby('State')['Profit'].agg(np.sum).sort_values(ascending=False)"
   ]
  },
  {
   "cell_type": "markdown",
   "id": "cdcf7d22",
   "metadata": {},
   "source": [
    "In eastern region pennsylvania,ohio,new york contriubted the highest loss among the other states in the corporate segment"
   ]
  },
  {
   "cell_type": "code",
   "execution_count": 23,
   "id": "823980ec",
   "metadata": {
    "scrolled": true
   },
   "outputs": [
    {
     "data": {
      "text/plain": [
       "State\n",
       "Texas       8051.9075\n",
       "Illinois    6223.4964\n",
       "Name: Profit, dtype: float64"
      ]
     },
     "execution_count": 23,
     "metadata": {},
     "output_type": "execute_result"
    }
   ],
   "source": [
    "StateCorporateCentralAnalysis.groupby('State')['Profit'].agg(np.sum).sort_values(ascending=False)"
   ]
  },
  {
   "cell_type": "markdown",
   "id": "90b9bbd6",
   "metadata": {},
   "source": [
    "In central region Texas followed by illinos contriubted the highest loss among the other states in the corporate segment"
   ]
  },
  {
   "cell_type": "markdown",
   "id": "a9feff72",
   "metadata": {},
   "source": [
    "### Consumer->South and Consumer->West"
   ]
  },
  {
   "cell_type": "code",
   "execution_count": 24,
   "id": "aba8aaa0",
   "metadata": {},
   "outputs": [],
   "source": [
    "ConsumerSouthWestAnalysis=loss_Data.groupby(['Segment','Region'])\n",
    "StateConsumerSouthAnalysis=ConsumerSouthWestAnalysis.get_group(('Corporate','South'))\n",
    "StateConsumerWestAnalysis=ConsumerSouthWestAnalysis.get_group(('Corporate','West'))"
   ]
  },
  {
   "cell_type": "code",
   "execution_count": 25,
   "id": "127827cd",
   "metadata": {
    "scrolled": false
   },
   "outputs": [
    {
     "data": {
      "text/plain": [
       "State\n",
       "North Carolina    4798.6767\n",
       "Florida           3100.8700\n",
       "Tennessee         1513.2816\n",
       "Name: Profit, dtype: float64"
      ]
     },
     "execution_count": 25,
     "metadata": {},
     "output_type": "execute_result"
    }
   ],
   "source": [
    "StateConsumerSouthAnalysis.groupby('State')['Profit'].agg(np.sum).sort_values(ascending=False)"
   ]
  },
  {
   "cell_type": "code",
   "execution_count": 27,
   "id": "ef47b073",
   "metadata": {
    "scrolled": false
   },
   "outputs": [
    {
     "data": {
      "text/plain": [
       "State\n",
       "Arizona       2060.5244\n",
       "Colorado      1311.7908\n",
       "California    1218.3835\n",
       "Oregon         609.5998\n",
       "Washington      54.4404\n",
       "Name: Profit, dtype: float64"
      ]
     },
     "execution_count": 27,
     "metadata": {},
     "output_type": "execute_result"
    }
   ],
   "source": [
    "StateConsumerWestAnalysis.groupby('State')['Profit'].agg(np.sum).sort_values(ascending=False)"
   ]
  },
  {
   "cell_type": "markdown",
   "id": "3c7c263b",
   "metadata": {},
   "source": [
    "## Segment->Region->SubCategory Analysis"
   ]
  },
  {
   "cell_type": "code",
   "execution_count": 28,
   "id": "0da57cc0",
   "metadata": {},
   "outputs": [],
   "source": [
    "SRSubCategory=loss_Data.groupby(['Segment','Region','State'])"
   ]
  },
  {
   "cell_type": "markdown",
   "id": "bedcbd76",
   "metadata": {},
   "source": [
    "### Consumer-Central Region"
   ]
  },
  {
   "cell_type": "code",
   "execution_count": 106,
   "id": "77893f57",
   "metadata": {
    "scrolled": true
   },
   "outputs": [
    {
     "name": "stdout",
     "output_type": "stream",
     "text": [
      "Category\n",
      "Office Supplies    18357.1559\n",
      "Furniture           5580.7344\n",
      "Technology          1891.6372\n",
      "Name: Profit, dtype: float64\n"
     ]
    }
   ],
   "source": [
    "print(SRSubCategory.get_group(('Consumer','Central','Texas')).groupby('Category')['Profit'].agg(np.sum).sort_values(ascending=False))"
   ]
  },
  {
   "cell_type": "code",
   "execution_count": 105,
   "id": "106d14bf",
   "metadata": {
    "scrolled": true
   },
   "outputs": [
    {
     "name": "stdout",
     "output_type": "stream",
     "text": [
      "Category\n",
      "Furniture          5695.2701\n",
      "Office Supplies    3047.7962\n",
      "Technology           57.8624\n",
      "Name: Profit, dtype: float64\n"
     ]
    }
   ],
   "source": [
    "print(SRSubCategory.get_group(('Consumer','Central','Illinois')).groupby('Category')['Profit'].agg(np.sum).sort_values(ascending=False))"
   ]
  },
  {
   "cell_type": "markdown",
   "id": "2edbd9e9",
   "metadata": {},
   "source": [
    "## Consumer-East Region"
   ]
  },
  {
   "cell_type": "code",
   "execution_count": 104,
   "id": "2bef1ebd",
   "metadata": {
    "scrolled": true
   },
   "outputs": [
    {
     "name": "stdout",
     "output_type": "stream",
     "text": [
      "Category\n",
      "Technology         11758.6258\n",
      "Office Supplies     1297.3970\n",
      "Furniture           1084.0062\n",
      "Name: Profit, dtype: float64\n"
     ]
    }
   ],
   "source": [
    "print(SRSubCategory.get_group(('Consumer','East','Ohio')).groupby('Category')['Profit'].agg(np.sum).sort_values(ascending=False))"
   ]
  },
  {
   "cell_type": "code",
   "execution_count": 103,
   "id": "2c7244f9",
   "metadata": {
    "scrolled": true
   },
   "outputs": [
    {
     "name": "stdout",
     "output_type": "stream",
     "text": [
      "Category\n",
      "Furniture          4759.6259\n",
      "Office Supplies    4491.1772\n",
      "Technology         1669.1745\n",
      "Name: Profit, dtype: float64\n"
     ]
    }
   ],
   "source": [
    "print(SRSubCategory.get_group(('Consumer','East','Pennsylvania')).groupby('Category')['Profit'].agg(np.sum).sort_values(ascending=False))"
   ]
  },
  {
   "cell_type": "code",
   "execution_count": 102,
   "id": "3fbbd59c",
   "metadata": {
    "scrolled": true
   },
   "outputs": [
    {
     "name": "stdout",
     "output_type": "stream",
     "text": [
      "Category\n",
      "Furniture    2351.3882\n",
      "Name: Profit, dtype: float64\n"
     ]
    }
   ],
   "source": [
    "print(SRSubCategory.get_group(('Consumer','East','New York')).groupby('Category')['Profit'].agg(np.sum).sort_values(ascending=False))"
   ]
  },
  {
   "cell_type": "markdown",
   "id": "ef06817b",
   "metadata": {},
   "source": [
    "## Corporate-East"
   ]
  },
  {
   "cell_type": "code",
   "execution_count": 101,
   "id": "89efb82c",
   "metadata": {
    "scrolled": true
   },
   "outputs": [
    {
     "name": "stdout",
     "output_type": "stream",
     "text": [
      "Category\n",
      "Technology         3475.3726\n",
      "Office Supplies    1995.4220\n",
      "Furniture          1343.6610\n",
      "Name: Profit, dtype: float64\n"
     ]
    }
   ],
   "source": [
    "print(SRSubCategory.get_group(('Corporate','East','Pennsylvania')).groupby('Category')['Profit'].agg(np.sum).sort_values(ascending=False))"
   ]
  },
  {
   "cell_type": "code",
   "execution_count": 100,
   "id": "49b42425",
   "metadata": {
    "scrolled": true
   },
   "outputs": [
    {
     "name": "stdout",
     "output_type": "stream",
     "text": [
      "Category\n",
      "Furniture          2989.1687\n",
      "Technology         2552.2512\n",
      "Office Supplies     493.4808\n",
      "Name: Profit, dtype: float64\n"
     ]
    }
   ],
   "source": [
    "print(SRSubCategory.get_group(('Corporate','East','Ohio')).groupby('Category')['Profit'].agg(np.sum).sort_values(ascending=False))"
   ]
  },
  {
   "cell_type": "markdown",
   "id": "1b11e0fd",
   "metadata": {},
   "source": [
    "## Corporate-Central"
   ]
  },
  {
   "cell_type": "code",
   "execution_count": 36,
   "id": "13b744ed",
   "metadata": {},
   "outputs": [
    {
     "name": "stdout",
     "output_type": "stream",
     "text": [
      "Category\n",
      "Furniture          3441.6757\n",
      "Office Supplies    3429.3539\n",
      "Technology         1180.8779\n",
      "Name: Profit, dtype: float64\n"
     ]
    }
   ],
   "source": [
    "print(SRSubCategory.get_group(('Corporate','Central','Texas')).groupby('Category')['Profit'].agg(np.sum).sort_values(ascending=False))"
   ]
  },
  {
   "cell_type": "code",
   "execution_count": 37,
   "id": "5e765a8a",
   "metadata": {
    "scrolled": true
   },
   "outputs": [
    {
     "name": "stdout",
     "output_type": "stream",
     "text": [
      "Category\n",
      "Office Supplies    5337.9948\n",
      "Furniture           884.0736\n",
      "Technology            1.4280\n",
      "Name: Profit, dtype: float64\n"
     ]
    }
   ],
   "source": [
    "print(SRSubCategory.get_group(('Corporate','Central','Illinois')).groupby('Category')['Profit'].agg(np.sum).sort_values(ascending=False))"
   ]
  },
  {
   "cell_type": "markdown",
   "id": "d3f4b9df",
   "metadata": {},
   "source": [
    "## Consumer-South"
   ]
  },
  {
   "cell_type": "code",
   "execution_count": 38,
   "id": "066eb565",
   "metadata": {
    "scrolled": true
   },
   "outputs": [
    {
     "name": "stdout",
     "output_type": "stream",
     "text": [
      "Category\n",
      "Furniture          3109.4769\n",
      "Technology         1540.1706\n",
      "Office Supplies     485.4974\n",
      "Name: Profit, dtype: float64\n"
     ]
    }
   ],
   "source": [
    "print(SRSubCategory.get_group(('Consumer','South','North Carolina')).groupby('Category')['Profit'].agg(np.sum).sort_values(ascending=False))"
   ]
  },
  {
   "cell_type": "code",
   "execution_count": 39,
   "id": "bd2a74d2",
   "metadata": {
    "scrolled": true
   },
   "outputs": [
    {
     "name": "stdout",
     "output_type": "stream",
     "text": [
      "Category\n",
      "Furniture          1515.3607\n",
      "Office Supplies    1174.8724\n",
      "Technology           86.9399\n",
      "Name: Profit, dtype: float64\n"
     ]
    }
   ],
   "source": [
    "print(SRSubCategory.get_group(('Consumer','South','Florida')).groupby('Category')['Profit'].agg(np.sum).sort_values(ascending=False))"
   ]
  },
  {
   "cell_type": "code",
   "execution_count": 40,
   "id": "880fabca",
   "metadata": {
    "scrolled": true
   },
   "outputs": [
    {
     "name": "stdout",
     "output_type": "stream",
     "text": [
      "Category\n",
      "Office Supplies    3577.2047\n",
      "Furniture           663.4944\n",
      "Technology          315.2364\n",
      "Name: Profit, dtype: float64\n"
     ]
    }
   ],
   "source": [
    "print(SRSubCategory.get_group(('Consumer','South','Tennessee')).groupby('Category')['Profit'].agg(np.sum).sort_values(ascending=False))"
   ]
  },
  {
   "cell_type": "markdown",
   "id": "605ab1ee",
   "metadata": {},
   "source": [
    "## Consumer-West"
   ]
  },
  {
   "cell_type": "code",
   "execution_count": 41,
   "id": "70c839ea",
   "metadata": {
    "scrolled": false
   },
   "outputs": [
    {
     "name": "stdout",
     "output_type": "stream",
     "text": [
      "Category\n",
      "Furniture          1664.5717\n",
      "Office Supplies    1148.3392\n",
      "Technology           94.2153\n",
      "Name: Profit, dtype: float64\n"
     ]
    }
   ],
   "source": [
    "print(SRSubCategory.get_group(('Consumer','West','Arizona')).groupby('Category')['Profit'].agg(np.sum).sort_values(ascending=False))"
   ]
  },
  {
   "cell_type": "code",
   "execution_count": 42,
   "id": "fdbb2152",
   "metadata": {
    "scrolled": true
   },
   "outputs": [
    {
     "name": "stdout",
     "output_type": "stream",
     "text": [
      "Category\n",
      "Furniture          2409.9564\n",
      "Office Supplies     530.0310\n",
      "Technology           36.3278\n",
      "Name: Profit, dtype: float64\n"
     ]
    }
   ],
   "source": [
    "print(SRSubCategory.get_group(('Consumer','West','Colorado')).groupby('Category')['Profit'].agg(np.sum).sort_values(ascending=False))"
   ]
  },
  {
   "cell_type": "code",
   "execution_count": 43,
   "id": "23c50446",
   "metadata": {
    "scrolled": true
   },
   "outputs": [
    {
     "name": "stdout",
     "output_type": "stream",
     "text": [
      "Category\n",
      "Furniture     1832.4500\n",
      "Technology     253.0292\n",
      "Name: Profit, dtype: float64\n"
     ]
    }
   ],
   "source": [
    "print(SRSubCategory.get_group(('Consumer','West','California')).groupby('Category')['Profit'].agg(np.sum).sort_values(ascending=False))"
   ]
  },
  {
   "cell_type": "raw",
   "id": "eaaf31d4",
   "metadata": {},
   "source": [
    "1.Furniture and office supplying sale in the Texas and Illinois(Central) state for the consumer segment made the highest loss\n",
    "2.Technology sale in ohio(Central) state for the consumer made 2nd highest loss\n",
    "3.Furniture and office supply sale in pennsylvania(East) state for the consumer made 3rd highest loss\n",
    "4.Technology sale in pensylvania(East) state for the corporate made 4th highest loss\n",
    "5.Furniture,Technology sale in ohio(East) state for the corporate made 5th highest loss\n",
    "6.Furniture sale in New Yokr(East) state for the corporate made 6th highest loss\n",
    "7.Furniture,office supply sale in Texas(Central) state for the corporate made 7th highest loss\n",
    "8.Office supply sale in Illinois(Central) state for the corporate made 8th highest loss"
   ]
  },
  {
   "cell_type": "markdown",
   "id": "e2d61b3a",
   "metadata": {},
   "source": [
    "#### Which category gives the lowest sales number?"
   ]
  },
  {
   "cell_type": "code",
   "execution_count": 74,
   "id": "c180c0d1",
   "metadata": {},
   "outputs": [],
   "source": [
    "lowestSales=loss_Data.groupby(['Category'])['Sales']"
   ]
  },
  {
   "cell_type": "code",
   "execution_count": 76,
   "id": "84ca9e42",
   "metadata": {},
   "outputs": [
    {
     "name": "stdout",
     "output_type": "stream",
     "text": [
      "4416.174\n",
      "4663.736\n",
      "22638.48\n"
     ]
    }
   ],
   "source": [
    "print(lowestSales.get_group('Furniture').agg(np.max))\n",
    "print(lowestSales.get_group('Office Supplies').agg(np.max))\n",
    "print(lowestSales.get_group('Technology').agg(np.max))"
   ]
  },
  {
   "cell_type": "markdown",
   "id": "c9aa6e95",
   "metadata": {},
   "source": [
    "#### How much loss in that particular category?"
   ]
  },
  {
   "cell_type": "code",
   "execution_count": 82,
   "id": "2a689e64",
   "metadata": {},
   "outputs": [],
   "source": [
    "LossInFurniture=loss_Data.groupby(['Category'])['Profit']"
   ]
  },
  {
   "cell_type": "code",
   "execution_count": 83,
   "id": "5ee2fecb",
   "metadata": {},
   "outputs": [
    {
     "data": {
      "text/plain": [
       "60936.109"
      ]
     },
     "execution_count": 83,
     "metadata": {},
     "output_type": "execute_result"
    }
   ],
   "source": [
    "LossInFurniture.get_group('Furniture').agg(np.sum)"
   ]
  },
  {
   "cell_type": "markdown",
   "id": "b31fa4de",
   "metadata": {},
   "source": [
    "#### Which segment buying the least Furniture?"
   ]
  },
  {
   "cell_type": "code",
   "execution_count": 85,
   "id": "f7765c25",
   "metadata": {},
   "outputs": [],
   "source": [
    "SegmentOfficeSupplies=loss_Data.groupby(['Segment','Category'])['Quantity']"
   ]
  },
  {
   "cell_type": "code",
   "execution_count": 92,
   "id": "c943877b",
   "metadata": {},
   "outputs": [
    {
     "name": "stdout",
     "output_type": "stream",
     "text": [
      "1373\n",
      "849\n",
      "430\n"
     ]
    }
   ],
   "source": [
    "print(SegmentOfficeSupplies.get_group(('Consumer','Furniture')).agg(np.sum))\n",
    "print(SegmentOfficeSupplies.get_group(('Corporate','Furniture')).agg(np.sum))\n",
    "print(SegmentOfficeSupplies.get_group(('Home Office','Furniture')).agg(np.sum))"
   ]
  },
  {
   "cell_type": "code",
   "execution_count": null,
   "id": "cc34c945",
   "metadata": {},
   "outputs": [],
   "source": []
  }
 ],
 "metadata": {
  "kernelspec": {
   "display_name": "Python 3 (ipykernel)",
   "language": "python",
   "name": "python3"
  },
  "language_info": {
   "codemirror_mode": {
    "name": "ipython",
    "version": 3
   },
   "file_extension": ".py",
   "mimetype": "text/x-python",
   "name": "python",
   "nbconvert_exporter": "python",
   "pygments_lexer": "ipython3",
   "version": "3.9.12"
  }
 },
 "nbformat": 4,
 "nbformat_minor": 5
}
